{
 "cells": [
  {
   "cell_type": "code",
   "execution_count": 1,
   "id": "32aee973",
   "metadata": {
    "_cell_guid": "b1076dfc-b9ad-4769-8c92-a6c4dae69d19",
    "_uuid": "8f2839f25d086af736a60e9eeb907d3b93b6e0e5",
    "execution": {
     "iopub.execute_input": "2023-09-04T14:57:07.377536Z",
     "iopub.status.busy": "2023-09-04T14:57:07.376883Z",
     "iopub.status.idle": "2023-09-04T14:57:07.767055Z",
     "shell.execute_reply": "2023-09-04T14:57:07.765967Z"
    },
    "papermill": {
     "duration": 0.400964,
     "end_time": "2023-09-04T14:57:07.770220",
     "exception": false,
     "start_time": "2023-09-04T14:57:07.369256",
     "status": "completed"
    },
    "tags": []
   },
   "outputs": [
    {
     "name": "stdout",
     "output_type": "stream",
     "text": [
      "/kaggle/input/sms-spam-collection-dataset/spam.csv\n"
     ]
    }
   ],
   "source": [
    "# This Python 3 environment comes with many helpful analytics libraries installed\n",
    "# It is defined by the kaggle/python Docker image: https://github.com/kaggle/docker-python\n",
    "# For example, here's several helpful packages to load\n",
    "\n",
    "import numpy as np # linear algebra\n",
    "import pandas as pd # data processing, CSV file I/O (e.g. pd.read_csv)\n",
    "\n",
    "# Input data files are available in the read-only \"../input/\" directory\n",
    "# For example, running this (by clicking run or pressing Shift+Enter) will list all files under the input directory\n",
    "\n",
    "import os\n",
    "for dirname, _, filenames in os.walk('/kaggle/input'):\n",
    "    for filename in filenames:\n",
    "        print(os.path.join(dirname, filename))\n",
    "\n",
    "# You can write up to 20GB to the current directory (/kaggle/working/) that gets preserved as output when you create a version using \"Save & Run All\" \n",
    "# You can also write temporary files to /kaggle/temp/, but they won't be saved outside of the current session"
   ]
  },
  {
   "cell_type": "code",
   "execution_count": 2,
   "id": "f58eb945",
   "metadata": {
    "execution": {
     "iopub.execute_input": "2023-09-04T14:57:07.781802Z",
     "iopub.status.busy": "2023-09-04T14:57:07.780905Z",
     "iopub.status.idle": "2023-09-04T14:57:07.847532Z",
     "shell.execute_reply": "2023-09-04T14:57:07.846480Z"
    },
    "papermill": {
     "duration": 0.075101,
     "end_time": "2023-09-04T14:57:07.850349",
     "exception": false,
     "start_time": "2023-09-04T14:57:07.775248",
     "status": "completed"
    },
    "tags": []
   },
   "outputs": [
    {
     "name": "stdout",
     "output_type": "stream",
     "text": [
      "     v1                                                 v2 Unnamed: 2  \\\n",
      "0   ham  Go until jurong point, crazy.. Available only ...        NaN   \n",
      "1   ham                      Ok lar... Joking wif u oni...        NaN   \n",
      "2  spam  Free entry in 2 a wkly comp to win FA Cup fina...        NaN   \n",
      "3   ham  U dun say so early hor... U c already then say...        NaN   \n",
      "4   ham  Nah I don't think he goes to usf, he lives aro...        NaN   \n",
      "\n",
      "  Unnamed: 3 Unnamed: 4  \n",
      "0        NaN        NaN  \n",
      "1        NaN        NaN  \n",
      "2        NaN        NaN  \n",
      "3        NaN        NaN  \n",
      "4        NaN        NaN  \n"
     ]
    }
   ],
   "source": [
    "# Load the dataset  \n",
    "data = pd.read_csv('/kaggle/input/sms-spam-collection-dataset/spam.csv', encoding='latin-1')\n",
    "\n",
    "# Check the first few rows to understand the data\n",
    "print(data.head())\n"
   ]
  },
  {
   "cell_type": "code",
   "execution_count": 3,
   "id": "ed57e71e",
   "metadata": {
    "execution": {
     "iopub.execute_input": "2023-09-04T14:57:07.861672Z",
     "iopub.status.busy": "2023-09-04T14:57:07.861287Z",
     "iopub.status.idle": "2023-09-04T14:57:07.880277Z",
     "shell.execute_reply": "2023-09-04T14:57:07.879171Z"
    },
    "papermill": {
     "duration": 0.027357,
     "end_time": "2023-09-04T14:57:07.882552",
     "exception": false,
     "start_time": "2023-09-04T14:57:07.855195",
     "status": "completed"
    },
    "tags": []
   },
   "outputs": [
    {
     "name": "stdout",
     "output_type": "stream",
     "text": [
      "     v1                                                 v2\n",
      "0   ham  Go until jurong point, crazy.. Available only ...\n",
      "1   ham                      Ok lar... Joking wif u oni...\n",
      "2  spam  Free entry in 2 a wkly comp to win FA Cup fina...\n",
      "3   ham  U dun say so early hor... U c already then say...\n",
      "4   ham  Nah I don't think he goes to usf, he lives aro...\n"
     ]
    }
   ],
   "source": [
    "# Drop the columns only if they exist\n",
    "columns_to_drop = ['Unnamed: 2', 'Unnamed: 3', 'Unnamed: 4']\n",
    "data = data.drop(columns_to_drop, axis=1, errors='ignore')\n",
    "print(data.head())"
   ]
  },
  {
   "cell_type": "code",
   "execution_count": 4,
   "id": "78ab52a7",
   "metadata": {
    "execution": {
     "iopub.execute_input": "2023-09-04T14:57:07.894227Z",
     "iopub.status.busy": "2023-09-04T14:57:07.893610Z",
     "iopub.status.idle": "2023-09-04T14:57:13.938847Z",
     "shell.execute_reply": "2023-09-04T14:57:13.937292Z"
    },
    "papermill": {
     "duration": 6.055162,
     "end_time": "2023-09-04T14:57:13.942583",
     "exception": false,
     "start_time": "2023-09-04T14:57:07.887421",
     "status": "completed"
    },
    "tags": []
   },
   "outputs": [
    {
     "name": "stdout",
     "output_type": "stream",
     "text": [
      "     v1                                                 v2\n",
      "0   ham  go jurong point avail bugi n great world la e ...\n",
      "1   ham                              ok lar joke wif u oni\n",
      "2  spam  free entri 2 wkli comp win fa cup final tkt 21...\n",
      "3   ham                u dun say earli hor u c alreadi say\n",
      "4   ham               nah think goe usf live around though\n"
     ]
    }
   ],
   "source": [
    "import pandas as pd\n",
    "import nltk\n",
    "from nltk.corpus import stopwords\n",
    "from nltk.tokenize import word_tokenize\n",
    "from nltk.stem import PorterStemmer\n",
    "\n",
    "# Clean the 'v2' column (assuming 'v2' contains the text data)\n",
    "data['v2'] = data['v2'].str.lower()\n",
    "\n",
    "# Tokenization and cleaning\n",
    "def preprocess_text(text):\n",
    "    tokens = word_tokenize(text)\n",
    "    stop_words = set(stopwords.words('english'))\n",
    "    filtered_tokens = [word for word in tokens if word.isalnum() and word not in stop_words]\n",
    "    stemmer = PorterStemmer()\n",
    "    stemmed_tokens = [stemmer.stem(word) for word in filtered_tokens]\n",
    "    return ' '.join(stemmed_tokens)\n",
    "\n",
    "data['v2'] = data['v2'].apply(preprocess_text)\n",
    "\n",
    "# Check the cleaned data\n",
    "print(data.head())\n"
   ]
  },
  {
   "cell_type": "code",
   "execution_count": 5,
   "id": "085022d9",
   "metadata": {
    "execution": {
     "iopub.execute_input": "2023-09-04T14:57:13.956128Z",
     "iopub.status.busy": "2023-09-04T14:57:13.954872Z",
     "iopub.status.idle": "2023-09-04T14:57:14.145550Z",
     "shell.execute_reply": "2023-09-04T14:57:14.144521Z"
    },
    "papermill": {
     "duration": 0.200871,
     "end_time": "2023-09-04T14:57:14.148774",
     "exception": false,
     "start_time": "2023-09-04T14:57:13.947903",
     "status": "completed"
    },
    "tags": []
   },
   "outputs": [
    {
     "name": "stdout",
     "output_type": "stream",
     "text": [
      "TF-IDF Matrix Shape: (5572, 8672)\n",
      "Training Data Shape: (4457, 8672)\n",
      "Testing Data Shape: (1115, 8672)\n"
     ]
    }
   ],
   "source": [
    "from sklearn.feature_extraction.text import TfidfVectorizer\n",
    "from sklearn.model_selection import train_test_split\n",
    "\n",
    "# Load the dataset\n",
    "data = pd.read_csv('/kaggle/input/sms-spam-collection-dataset/spam.csv', encoding='latin-1')\n",
    "\n",
    "# Feature Extraction (TF-IDF)\n",
    "tfidf_vectorizer = TfidfVectorizer()\n",
    "tfidf_matrix = tfidf_vectorizer.fit_transform(data['v2'])\n",
    "\n",
    "# Label Encoding\n",
    "data['v1'] = data['v1'].map({'ham': 0, 'spam': 1})\n",
    "\n",
    "# Split Data\n",
    "X_train, X_test, y_train, y_test = train_test_split(tfidf_matrix, data['v1'], test_size=0.2, random_state=42)\n",
    "\n",
    "# Check the shape of the TF-IDF matrix and the split data\n",
    "print(\"TF-IDF Matrix Shape:\", tfidf_matrix.shape)\n",
    "print(\"Training Data Shape:\", X_train.shape)\n",
    "print(\"Testing Data Shape:\", X_test.shape)\n"
   ]
  },
  {
   "cell_type": "code",
   "execution_count": 6,
   "id": "eb91ec2d",
   "metadata": {
    "execution": {
     "iopub.execute_input": "2023-09-04T14:57:14.162304Z",
     "iopub.status.busy": "2023-09-04T14:57:14.161527Z",
     "iopub.status.idle": "2023-09-04T14:57:18.638421Z",
     "shell.execute_reply": "2023-09-04T14:57:18.636949Z"
    },
    "papermill": {
     "duration": 4.485793,
     "end_time": "2023-09-04T14:57:18.640719",
     "exception": false,
     "start_time": "2023-09-04T14:57:14.154926",
     "status": "completed"
    },
    "tags": []
   },
   "outputs": [
    {
     "name": "stdout",
     "output_type": "stream",
     "text": [
      "Accuracy: 0.9766816143497757\n",
      "Classification Report:\n",
      "               precision    recall  f1-score   support\n",
      "\n",
      "           0       0.97      1.00      0.99       965\n",
      "           1       1.00      0.83      0.91       150\n",
      "\n",
      "    accuracy                           0.98      1115\n",
      "   macro avg       0.99      0.91      0.95      1115\n",
      "weighted avg       0.98      0.98      0.98      1115\n",
      "\n"
     ]
    }
   ],
   "source": [
    "from sklearn.ensemble import RandomForestClassifier\n",
    "from sklearn.metrics import accuracy_score, classification_report\n",
    "\n",
    "# Create a Random Forest classifier\n",
    "rf_classifier = RandomForestClassifier(random_state=42)\n",
    "\n",
    "# Train the classifier on the training data\n",
    "rf_classifier.fit(X_train, y_train)\n",
    "\n",
    "# Make predictions on the testing data\n",
    "y_pred = rf_classifier.predict(X_test)\n",
    "\n",
    "# Evaluate the model's performance\n",
    "accuracy = accuracy_score(y_test, y_pred)\n",
    "classification_rep = classification_report(y_test, y_pred)\n",
    "\n",
    "# Print the results\n",
    "print(\"Accuracy:\", accuracy)\n",
    "print(\"Classification Report:\\n\", classification_rep)\n"
   ]
  },
  {
   "cell_type": "code",
   "execution_count": 7,
   "id": "a172faef",
   "metadata": {
    "execution": {
     "iopub.execute_input": "2023-09-04T14:57:18.652483Z",
     "iopub.status.busy": "2023-09-04T14:57:18.652066Z",
     "iopub.status.idle": "2023-09-04T14:57:18.668460Z",
     "shell.execute_reply": "2023-09-04T14:57:18.667053Z"
    },
    "papermill": {
     "duration": 0.025408,
     "end_time": "2023-09-04T14:57:18.671156",
     "exception": false,
     "start_time": "2023-09-04T14:57:18.645748",
     "status": "completed"
    },
    "tags": []
   },
   "outputs": [
    {
     "name": "stdout",
     "output_type": "stream",
     "text": [
      "This message is predicted to be SPAM.\n"
     ]
    }
   ],
   "source": [
    "# Preprocess your text\n",
    "input_text = \"Congratulations! You've won a free vacation. Click the link to claim your prize.\"\n",
    "\n",
    "# Apply the same preprocessing as in your previous code\n",
    "input_text = input_text.lower()\n",
    "# Add more preprocessing steps if needed\n",
    "\n",
    "# Transform the input text into a TF-IDF vector\n",
    "input_tfidf = tfidf_vectorizer.transform([input_text])\n",
    "\n",
    "# Make a prediction using the trained Random Forest model\n",
    "prediction = rf_classifier.predict(input_tfidf)\n",
    "\n",
    "# Interpret the prediction\n",
    "if prediction[0] == 1:\n",
    "    print(\"This message is predicted to be SPAM.\")\n",
    "else:\n",
    "    print(\"This message is predicted to be NOT SPAM (ham).\")\n"
   ]
  },
  {
   "cell_type": "code",
   "execution_count": 8,
   "id": "12c76d33",
   "metadata": {
    "execution": {
     "iopub.execute_input": "2023-09-04T14:57:18.683284Z",
     "iopub.status.busy": "2023-09-04T14:57:18.682903Z",
     "iopub.status.idle": "2023-09-04T14:57:18.697425Z",
     "shell.execute_reply": "2023-09-04T14:57:18.696320Z"
    },
    "papermill": {
     "duration": 0.023486,
     "end_time": "2023-09-04T14:57:18.699827",
     "exception": false,
     "start_time": "2023-09-04T14:57:18.676341",
     "status": "completed"
    },
    "tags": []
   },
   "outputs": [
    {
     "name": "stdout",
     "output_type": "stream",
     "text": [
      "This message is predicted to be NOT SPAM (ham).\n"
     ]
    }
   ],
   "source": [
    "# Preprocess your text\n",
    "input_text1 = \"Hello, I'm Jacklin. Nice to meet you.\"\n",
    "\n",
    "# Apply the same preprocessing as in your previous code\n",
    "input_text1 = input_text1.lower()\n",
    "# Add more preprocessing steps if needed\n",
    "\n",
    "# Transform the input text into a TF-IDF vector\n",
    "input_tfidf = tfidf_vectorizer.transform([input_text1])\n",
    "\n",
    "# Make a prediction using the trained Random Forest model\n",
    "prediction = rf_classifier.predict(input_tfidf)\n",
    "\n",
    "# Interpret the prediction\n",
    "if prediction[0] == 1:\n",
    "    print(\"This message is predicted to be SPAM.\")\n",
    "else:\n",
    "    print(\"This message is predicted to be NOT SPAM (ham).\")\n"
   ]
  },
  {
   "cell_type": "code",
   "execution_count": null,
   "id": "67d022cb",
   "metadata": {
    "papermill": {
     "duration": 0.005164,
     "end_time": "2023-09-04T14:57:18.710009",
     "exception": false,
     "start_time": "2023-09-04T14:57:18.704845",
     "status": "completed"
    },
    "tags": []
   },
   "outputs": [],
   "source": []
  },
  {
   "cell_type": "code",
   "execution_count": null,
   "id": "7a296757",
   "metadata": {
    "papermill": {
     "duration": 0.004999,
     "end_time": "2023-09-04T14:57:18.720019",
     "exception": false,
     "start_time": "2023-09-04T14:57:18.715020",
     "status": "completed"
    },
    "tags": []
   },
   "outputs": [],
   "source": []
  }
 ],
 "kernelspec": {
  "display_name": "Python 3",
  "language": "python",
  "name": "python3"
 },
 "language_info": {
  "codemirror_mode": {
   "name": "ipython",
   "version": 3
  },
  "file_extension": ".py",
  "mimetype": "text/x-python",
  "name": "python",
  "nbconvert_exporter": "python",
  "pygments_lexer": "ipython3",
  "version": "3.6.4"
 },
 "metadata": {
  "kernelspec": {
   "display_name": "Python 3",
   "language": "python",
   "name": "python3"
  },
  "language_info": {
   "codemirror_mode": {
    "name": "ipython",
    "version": 3
   },
   "file_extension": ".py",
   "mimetype": "text/x-python",
   "name": "python",
   "nbconvert_exporter": "python",
   "pygments_lexer": "ipython3",
   "version": "3.10.12"
  },
  "papermill": {
   "default_parameters": {},
   "duration": 15.426966,
   "end_time": "2023-09-04T14:57:19.348812",
   "environment_variables": {},
   "exception": null,
   "input_path": "__notebook__.ipynb",
   "output_path": "__notebook__.ipynb",
   "parameters": {},
   "start_time": "2023-09-04T14:57:03.921846",
   "version": "2.4.0"
  }
 },
 "nbformat": 4,
 "nbformat_minor": 5
}
